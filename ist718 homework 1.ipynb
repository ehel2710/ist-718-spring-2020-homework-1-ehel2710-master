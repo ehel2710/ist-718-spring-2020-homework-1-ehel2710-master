{
 "cells": [
  {
   "cell_type": "markdown",
   "metadata": {},
   "source": [
    "##### Grading Feedback Cell"
   ]
  },
  {
   "cell_type": "markdown",
   "metadata": {
    "deletable": false,
    "nbgrader": {
     "checksum": "4e6cefb0049d48a2f4648d752841bb06",
     "grade": false,
     "grade_id": "cell-b038e38b5e3072a9",
     "locked": false,
     "schema_version": 1,
     "solution": false
    }
   },
   "source": [
    "# IST 718: Big Data Analytics\n",
    "\n",
    "- Professor: Willard Williamson <wewillia@syr.edu>\n",
    "- Faculty Assistant: Yash Pasar\n",
    "## General instructions:\n",
    "\n",
    "- You are welcome to discuss the problems with your classmates but __you are not allowed to copy any part of your answers from your classmates.  Short code snippets are allowed from the internet.  Code from the class text books or class provided code can be copied in its entirety.__\n",
    "- __Do not change homework file names.__ The FAs and the professor use these names to grade your homework.  Changing file names may result in a point reduction penalty.\n",
    "- There could be tests in some cells (i.e., `assert` and `np.testing.` statements). These tests (if present) are used to grade your answers. **However, the professor and FAs could use __additional__ test for your answer. Think about cases where your code should run even if it passess all the tests you see.**\n",
    "- Before submitting your work, remember to check for run time errors with the following procedure:\n",
    "`Kernel`$\\rightarrow$`Restart and Run All`.  All runtime errors will result in a minimum penalty of half off.\n",
    "- Data Bricks is the official class runtime environment so you should test your code on Data Bricks before submission.  If there is a runtime problem in the grading environment, we will try your code on Data Bricks before making a final grading decision.\n",
    "- All plots shall include a title, and axis labels.\n",
    "- Grading feedback cells are there for graders to provide feedback to students.  Don't change or remove grading feedback cells."
   ]
  },
  {
   "cell_type": "code",
   "execution_count": 1,
   "metadata": {},
   "outputs": [],
   "source": [
    "# import all needed packages in this cell\n",
    "import pandas as pd\n",
    "import numpy as np\n",
    "import statistics as sta\n",
    "import matplotlib.mlab as mlab\n",
    "import matplotlib.pyplot as plt"
   ]
  },
  {
   "cell_type": "markdown",
   "metadata": {},
   "source": [
    "**Question 1 (10 pts)** Write a function named reverse_by_three that receives a numpy array, python list, or tuple as an input argument and starting at the 2nd from last element, returns every 3rd element of the list in reverse order.  It is legal to return an empty python list, numpy array, or tuple if the input.  Use slicing syntax exclusively to perform the operations.  Your code should be efficient as possible and not use a lot of extraneous un-needed code in the solution."
   ]
  },
  {
   "cell_type": "code",
   "execution_count": 73,
   "metadata": {
    "deletable": false,
    "nbgrader": {
     "checksum": "085f5b48fbce649d8e6a5f12381f40ce",
     "grade": false,
     "grade_id": "cell-5eb87107d2800505",
     "locked": false,
     "schema_version": 1,
     "solution": true
    }
   },
   "outputs": [],
   "source": [
    "# Create the function reverse_by_three here\n",
    "def reverse_by_three(array):\n",
    "    arrayR = np.flip(array)\n",
    "    ar = []\n",
    "    x = 0\n",
    "    while x < len(arrayR):\n",
    "        if(x+1)%3 == 0:\n",
    "            ar.append(arrayR[x])\n",
    "        x += 1\n",
    "    return ar"
   ]
  },
  {
   "cell_type": "code",
   "execution_count": 74,
   "metadata": {
    "deletable": false,
    "editable": false,
    "nbgrader": {
     "checksum": "da34aac4c035b267f3ff5816fd031fba",
     "grade": true,
     "grade_id": "cell-17c0ac01cace4b18",
     "locked": true,
     "points": 10,
     "schema_version": 1,
     "solution": false
    }
   },
   "outputs": [
    {
     "data": {
      "text/plain": [
       "[4, 1]"
      ]
     },
     "execution_count": 74,
     "metadata": {},
     "output_type": "execute_result"
    }
   ],
   "source": [
    "# For grading use only (question 1)\n",
    "reverse_by_three(np.array([1,2,3,4,5,6]))"
   ]
  },
  {
   "cell_type": "markdown",
   "metadata": {},
   "source": [
    "##### Grading Feedback Cell"
   ]
  },
  {
   "cell_type": "markdown",
   "metadata": {},
   "source": [
    "**Question 2 (10 pts)** Create a python class named my_statistics.  The my_statisitics class should require a single numpy array argument in its constructor.  Implement the following statistical methods in the my_statistics class: get_mean, get_pop_std, get_sample_std, get_min, and get_max.  The get_pop_std method shall return the standard deviation assuming the constructor argument is a complete population.  The get_sample_std method shall return the standard deviation assuming that the constructor argument is a sample of a population.  The get_min and get_max methods shall return the min and max of the constructor argument respectively.  The get_mean method shall return the mean.  Return a 'None' type if the constructor argument would cause an error for the specified operation.  Use numpy functions to perform the statistical calculations."
   ]
  },
  {
   "cell_type": "code",
   "execution_count": 85,
   "metadata": {
    "deletable": false,
    "nbgrader": {
     "checksum": "93c89a396ab6aa6ace9fe98663691b74",
     "grade": false,
     "grade_id": "cell-48471c8515aa4e5c",
     "locked": false,
     "schema_version": 1,
     "solution": true
    }
   },
   "outputs": [
    {
     "name": "stdout",
     "output_type": "stream",
     "text": [
      "-6.066666666666666\n",
      "85.59086140211205\n",
      "88.5945822271317\n",
      "-310\n",
      "99\n",
      "49.5\n"
     ]
    }
   ],
   "source": [
    "# create the my_statistics class here\n",
    "# YOUR CODE HERE\n",
    "class my_statistics:\n",
    "    \n",
    "    def __init__ (self, array):\n",
    "        self.ar = array\n",
    "\n",
    "    def get_mean(self):\n",
    "        return np.mean(self.ar)\n",
    "    \n",
    "    def get_pop_std(self):\n",
    "        return np.std(self.ar)\n",
    "    \n",
    "    def get_sample_std(self):\n",
    "        return sta.stdev(self.ar)\n",
    "    \n",
    "    def get_min(self):\n",
    "        return np.amin(self.ar)\n",
    "    \n",
    "    def get_max(self):\n",
    "        return np.amax(self.ar)\n",
    "    \n",
    "stats_data = np.array([12, 17, 9, 13, -5, -7, -9, -11, 39, 42, 17, 2, 99, 1, -310])\n",
    "my_stats = my_statistics(stats_data)\n",
    "print(my_stats.get_mean())\n",
    "print(my_stats.get_pop_std())\n",
    "print(my_stats.get_sample_std())\n",
    "print(my_stats.get_min())\n",
    "print(my_stats.get_max())"
   ]
  },
  {
   "cell_type": "code",
   "execution_count": 71,
   "metadata": {
    "deletable": false,
    "nbgrader": {
     "checksum": "da34aac4c035b267f3ff5816fd031fba",
     "grade": true,
     "grade_id": "cell-17c0ac01cace4b18",
     "locked": true,
     "points": 10,
     "schema_version": 1,
     "solution": false
    }
   },
   "outputs": [
    {
     "name": "stdout",
     "output_type": "stream",
     "text": [
      "-6.066666666666666\n",
      "85.59086140211205\n",
      "88.5945822271317\n",
      "-310\n",
      "99\n"
     ]
    }
   ],
   "source": [
    "# For grading use only (question 2)\n",
    "stats_data = np.array([12, 17, 9, 13, -5, -7, -9, -11, 39, 42, 17, 2, 99, 1, -310])\n",
    "my_stats = my_statistics(stats_data)\n",
    "print(my_stats.get_mean())\n",
    "print(my_stats.get_pop_std())\n",
    "print(my_stats.get_sample_std())\n",
    "print(my_stats.get_min())\n",
    "print(my_stats.get_max())"
   ]
  },
  {
   "cell_type": "markdown",
   "metadata": {},
   "source": [
    "##### Grading Feedback Cell"
   ]
  },
  {
   "cell_type": "markdown",
   "metadata": {},
   "source": [
    "**Question 3 (30 pts)** Create a function named monte_hall that takes as an argument the number of times to iterate a monte-carlo simulation of the Monte Hall problem with 4 doors and 1 prize.   (https://en.wikipedia.org/wiki/Monty_Hall_problem).   \n",
    "For simplicity, you can assume that the game player always initially chooses door A and the host will open one door.  The prize may be behind any of the 4 doors.  The monte_hall function should print answers to the following 2 questions:  Based on the simulation, what is the probability of winning if you switch doors, and what is the probability of winning if you keep door A?  Your function should return these values in a tuple (prob_win_if_switch, prob_win_if_keep)."
   ]
  },
  {
   "cell_type": "code",
   "execution_count": 97,
   "metadata": {},
   "outputs": [],
   "source": [
    "# monte_hall function here\n",
    "def monte_hall(time):\n",
    "    def winkeep(t):\n",
    "        win_keep = 0\n",
    "        for i in range(t):\n",
    "            Door = ['a','b','c','d']\n",
    "            prize = np.random.choice(Door)\n",
    "            if prize == 'a':\n",
    "                win_keep += 1\n",
    "        return win_keep\n",
    "            \n",
    "    def winswitch(t):\n",
    "        win_switch = 0\n",
    "        for i in range(t):\n",
    "            Door = ['a', 'b', 'c', 'd']\n",
    "            prize = np.random.choice(Door)\n",
    "            if prize == 'a':\n",
    "                #Due to the fact that player chooses door A automatically, if prize is also randomly chosen to be behind\n",
    "                # door A, player is going to win the game owing to switching doors every round.\n",
    "                win_switch += 1\n",
    "            else:\n",
    "                # Prize is not behind door A, which means it's closing 1 door within B,C,D but excluding the one with \n",
    "                # prize behind. Assume that prize is behind door B, then randomly chose door C to be closed. Then player\n",
    "                # has to decide switching to door B or D. If the player chooses door D, due to the fact that one door \n",
    "                # is going to be closed in next round, the player will win. Vice versa, the player will lose in the end.\n",
    "                t = np.random.choice(['win','lose'])\n",
    "                if t == 'win':\n",
    "                    win_switch += 1       \n",
    "        return win_switch\n",
    "    prob_win_if_switch = winswitch(time)/time\n",
    "    prob_win_if_keep = winkeep(time)/time\n",
    "    return (prob_win_if_switch, prob_win_if_keep)"
   ]
  },
  {
   "cell_type": "code",
   "execution_count": 98,
   "metadata": {
    "deletable": false,
    "editable": false,
    "nbgrader": {
     "checksum": "2d488b9ce0d64d863d724afc6ca32625",
     "grade": false,
     "grade_id": "cell-8804dcdb0db3c1bb",
     "locked": false,
     "schema_version": 1,
     "solution": true
    }
   },
   "outputs": [
    {
     "name": "stdout",
     "output_type": "stream",
     "text": [
      "(0.6207, 0.2475)\n"
     ]
    }
   ],
   "source": [
    "# For grading use only (question 3)\n",
    "print(monte_hall(10000))"
   ]
  },
  {
   "cell_type": "markdown",
   "metadata": {},
   "source": [
    "##### Grading Feedback Cell"
   ]
  },
  {
   "cell_type": "markdown",
   "metadata": {},
   "source": [
    "##### **Question 4 (10 pts)** Create a numpy array containing 10,000 samples of random normal data with a mean of 5 and a variance of 4.  Plot a histogram of the data using matplotlib."
   ]
  },
  {
   "cell_type": "code",
   "execution_count": 28,
   "metadata": {},
   "outputs": [
    {
     "name": "stdout",
     "output_type": "stream",
     "text": [
      "(array([  15.,  114.,  539., 1567., 2524., 2716., 1689.,  664.,  152.,\n",
      "         20.]), array([-9.45131812, -6.60364708, -3.75597604, -0.908305  ,  1.93936604,\n",
      "        4.78703708,  7.63470812, 10.48237916, 13.3300502 , 16.17772124,\n",
      "       19.02539228]), <a list of 10 Patch objects>)\n"
     ]
    },
    {
     "data": {
      "image/png": "[encoded data removed]",
      "text/plain": [
       "<Figure size 432x288 with 1 Axes>"
      ]
     },
     "metadata": {
      "needs_background": "light"
     },
     "output_type": "display_data"
    }
   ],
   "source": [
    "# your histogram plot code here\n",
    "from random import seed\n",
    "from random import gauss\n",
    "seed(1)\n",
    "rl = np.array([])\n",
    "for x in range(10000):\n",
    "    value = gauss(5, 4)\n",
    "    rl = np.append(rl,value)\n",
    "print(plt.hist(rl))"
   ]
  },
  {
   "cell_type": "markdown",
   "metadata": {},
   "source": [
    "##### Grading Feedback Cell"
   ]
  },
  {
   "cell_type": "markdown",
   "metadata": {},
   "source": [
    "#### Question 5 (10 pts) The below cell creates a pandas dataframe called iris_df.  Write a function named plot_iris_grid that uses matplotlib to create a grid of 16 scatter plots of all combinatations of the columns in the iris_df data frame.  For example, the first row should be sepal len vs sepal len, sepal len vs sepal width, sepal len vs petal len, sepal len vs petal width."
   ]
  },
  {
   "cell_type": "code",
   "execution_count": 7,
   "metadata": {
    "nbgrader": {
     "checksum": "e943372f6c350987929750bb43e37729",
     "grade": true,
     "grade_id": "cell-fc6a0f4ea3e7d63d",
     "locked": true,
     "points": 10,
     "schema_version": 1,
     "solution": false
    }
   },
   "outputs": [
    {
     "name": "stdout",
     "output_type": "stream",
     "text": [
      "   sepal.length  sepal.width  petal.length  petal.width variety\n",
      "0           5.1          3.5           1.4          0.2  Setosa\n",
      "1           4.9          3.0           1.4          0.2  Setosa\n",
      "2           4.7          3.2           1.3          0.2  Setosa\n",
      "3           4.6          3.1           1.5          0.2  Setosa\n",
      "4           5.0          3.6           1.4          0.2  Setosa\n"
     ]
    },
    {
     "data": {
      "image/png": "[encoded data removed]",
      "text/plain": [
       "<Figure size 432x288 with 16 Axes>"
      ]
     },
     "metadata": {
      "needs_background": "light"
     },
     "output_type": "display_data"
    }
   ],
   "source": [
    "# plot_iris_grid code here\n",
    "iris_df = pd.read_csv(\"/Users/eric_huang/documents/su/course files/20spring/718/w2/ist-718-spring-2020-homework-1-ehel2710-master/iris.csv\")\n",
    "sl = iris_df['sepal.length']\n",
    "sw = iris_df['sepal.width']\n",
    "pl = iris_df['petal.length']\n",
    "pw = iris_df['petal.width']\n",
    "print(iris_df[:5])\n",
    "#def plot_iris_grid():\n",
    "#    irisorder = ['sl','sw','pl','pw']\n",
    "#    for a in irisorder:\n",
    "#        for b in irisorder:\n",
    "#            plt.plot(a,b,'o',color = 'black')\n",
    "\n",
    "#plot_iris_grid()\n",
    "\n",
    "#print(plt.plot(sl,sw,'o',color = 'black'))\n",
    "#print(plt.plot(sw,sl,'o',color = 'red'))\n",
    "order = ['sl','sw','pl','pw']\n",
    "\n",
    "fig, axs = plt.subplots(4, 4, sharex='col', sharey='row',\n",
    "                        gridspec_kw={'hspace': 0, 'wspace': 0})\n",
    "(ax1, ax2, ax3, ax4), (ax5, ax6, ax7, ax8), (ax9, ax10, ax11, ax12), (ax13, ax14, ax15, ax16)= axs\n",
    "fig.suptitle('iris')\n",
    "ax1.plot(sl,sl,'o')\n",
    "ax2.plot(sl,sw,'o')\n",
    "ax3.plot(sl,pl,'o')\n",
    "ax4.plot(sl,pw,'o')\n",
    "ax5.plot(sw,sl,'o')\n",
    "ax6.plot(sw,sw,'o')\n",
    "ax7.plot(sw,pl,'o')\n",
    "ax8.plot(sw,pw,'o')\n",
    "ax9.plot(pl,sl,'o')\n",
    "ax10.plot(pl,sw,'o')\n",
    "ax11.plot(pl,pl,'o')\n",
    "ax12.plot(pl,pw,'o')\n",
    "ax13.plot(pw,sl,'o')\n",
    "ax14.plot(pw,sw,'o')\n",
    "ax15.plot(pw,pl,'o')\n",
    "ax16.plot(pw,pw,'o')\n",
    "\n",
    "for ax in axs.flat:\n",
    "    ax.label_outer()\n"
   ]
  },
  {
   "cell_type": "markdown",
   "metadata": {},
   "source": [
    "##### Grading Feedback Cell"
   ]
  },
  {
   "cell_type": "markdown",
   "metadata": {},
   "source": [
    "#### Question 6 (20 pts) Pandas"
   ]
  },
  {
   "cell_type": "markdown",
   "metadata": {},
   "source": [
    "6a (4 pts): Read the supplied potholes_2016.csv file into a pandas dataframe named potholes.  Save the shape of the potholes dataframe in a variable named potholes_shape.  Display the potholes_shape variable.  Display the head of the potholes dataframe.  "
   ]
  },
  {
   "cell_type": "code",
   "execution_count": 131,
   "metadata": {},
   "outputs": [
    {
     "data": {
      "text/plain": [
       "(7488, 10)"
      ]
     },
     "metadata": {},
     "output_type": "display_data"
    },
    {
     "data": {
      "text/html": [
       "<div>\n",
       "<style scoped>\n",
       "    .dataframe tbody tr th:only-of-type {\n",
       "        vertical-align: middle;\n",
       "    }\n",
       "\n",
       "    .dataframe tbody tr th {\n",
       "        vertical-align: top;\n",
       "    }\n",
       "\n",
       "    .dataframe thead th {\n",
       "        text-align: right;\n",
       "    }\n",
       "</style>\n",
       "<table border=\"1\" class=\"dataframe\">\n",
       "  <thead>\n",
       "    <tr style=\"text-align: right;\">\n",
       "      <th></th>\n",
       "      <th>StreetNumber</th>\n",
       "      <th>StreetName</th>\n",
       "      <th>StreetNamePostType</th>\n",
       "      <th>Directional</th>\n",
       "      <th>strLocation</th>\n",
       "      <th>dtTime</th>\n",
       "      <th>streetID</th>\n",
       "      <th>VehicleName</th>\n",
       "      <th>Latitude</th>\n",
       "      <th>Longitude</th>\n",
       "    </tr>\n",
       "  </thead>\n",
       "  <tbody>\n",
       "    <tr>\n",
       "      <th>0</th>\n",
       "      <td>215</td>\n",
       "      <td>COMSTOCK</td>\n",
       "      <td>AVE</td>\n",
       "      <td></td>\n",
       "      <td>215 COMSTOCK AVE &amp; HARRISON S</td>\n",
       "      <td>4/14/2016 8:57</td>\n",
       "      <td>12578124</td>\n",
       "      <td>DP2</td>\n",
       "      <td>-76.130140</td>\n",
       "      <td>43.044159</td>\n",
       "    </tr>\n",
       "    <tr>\n",
       "      <th>1</th>\n",
       "      <td>700</td>\n",
       "      <td>MIDLAND</td>\n",
       "      <td>AVE</td>\n",
       "      <td></td>\n",
       "      <td>700-06 MIDLAND AVE &amp; CASTLE ST W</td>\n",
       "      <td>4/15/2016 9:01</td>\n",
       "      <td>12573231</td>\n",
       "      <td>DP1</td>\n",
       "      <td>-76.154074</td>\n",
       "      <td>43.031314</td>\n",
       "    </tr>\n",
       "    <tr>\n",
       "      <th>2</th>\n",
       "      <td>1604</td>\n",
       "      <td>GRANT</td>\n",
       "      <td>BLVD</td>\n",
       "      <td></td>\n",
       "      <td>1604-08 GRANT BLVD &amp; WOODRUFF AVE</td>\n",
       "      <td>4/15/2016 13:03</td>\n",
       "      <td>12580306</td>\n",
       "      <td>DP1</td>\n",
       "      <td>-76.138284</td>\n",
       "      <td>43.072356</td>\n",
       "    </tr>\n",
       "    <tr>\n",
       "      <th>3</th>\n",
       "      <td>261</td>\n",
       "      <td>HOPPER</td>\n",
       "      <td>RD</td>\n",
       "      <td></td>\n",
       "      <td>261 HOPPER RD</td>\n",
       "      <td>4/18/2016 10:39</td>\n",
       "      <td>12571704</td>\n",
       "      <td>DP2</td>\n",
       "      <td>-76.159681</td>\n",
       "      <td>42.998028</td>\n",
       "    </tr>\n",
       "    <tr>\n",
       "      <th>4</th>\n",
       "      <td>1821</td>\n",
       "      <td>VALLEY</td>\n",
       "      <td>DR</td>\n",
       "      <td></td>\n",
       "      <td>1821 VALLEY DR &amp; CHAFFEE AVE E</td>\n",
       "      <td>4/18/2016 10:52</td>\n",
       "      <td>12571710</td>\n",
       "      <td>DP2</td>\n",
       "      <td>-76.152482</td>\n",
       "      <td>42.997837</td>\n",
       "    </tr>\n",
       "  </tbody>\n",
       "</table>\n",
       "</div>"
      ],
      "text/plain": [
       "  StreetNumber StreetName StreetNamePostType Directional  \\\n",
       "0          215  COMSTOCK                 AVE               \n",
       "1          700   MIDLAND                 AVE               \n",
       "2         1604     GRANT                BLVD               \n",
       "3          261    HOPPER                  RD               \n",
       "4         1821    VALLEY                  DR               \n",
       "\n",
       "                         strLocation           dtTime  streetID VehicleName  \\\n",
       "0      215 COMSTOCK AVE & HARRISON S   4/14/2016 8:57  12578124         DP2   \n",
       "1   700-06 MIDLAND AVE & CASTLE ST W   4/15/2016 9:01  12573231         DP1   \n",
       "2  1604-08 GRANT BLVD & WOODRUFF AVE  4/15/2016 13:03  12580306         DP1   \n",
       "3                      261 HOPPER RD  4/18/2016 10:39  12571704         DP2   \n",
       "4     1821 VALLEY DR & CHAFFEE AVE E  4/18/2016 10:52  12571710         DP2   \n",
       "\n",
       "    Latitude  Longitude  \n",
       "0 -76.130140  43.044159  \n",
       "1 -76.154074  43.031314  \n",
       "2 -76.138284  43.072356  \n",
       "3 -76.159681  42.998028  \n",
       "4 -76.152482  42.997837  "
      ]
     },
     "metadata": {},
     "output_type": "display_data"
    }
   ],
   "source": [
    "# Create potholes dataframe, potholes_shape variables here\n",
    "potholes = pd.read_csv(\"/Users/eric_huang/documents/su/course files/20spring/718/w2/ist-718-spring-2020-homework-1-ehel2710-master/potholes_2016.csv\")\n",
    "potholes_shape = potholes.shape\n",
    "display(potholes_shape)\n",
    "display(potholes.head())"
   ]
  },
  {
   "cell_type": "code",
   "execution_count": null,
   "metadata": {
    "deletable": false,
    "editable": false,
    "nbgrader": {
     "checksum": "da34aac4c035b267f3ff5816fd031fba",
     "grade": true,
     "grade_id": "cell-17c0ac01cace4b18",
     "locked": true,
     "points": 10,
     "schema_version": 1,
     "solution": false
    }
   },
   "outputs": [],
   "source": [
    "# for grading use only (question 6a)\n"
   ]
  },
  {
   "cell_type": "markdown",
   "metadata": {},
   "source": [
    "##### Grading Feedback Cell"
   ]
  },
  {
   "cell_type": "markdown",
   "metadata": {},
   "source": [
    "6b (4 pts): Count the total number of NAN values in the potholes dataframe and store in a variable named total_nan.  Print the total_nan variable."
   ]
  },
  {
   "cell_type": "code",
   "execution_count": 138,
   "metadata": {},
   "outputs": [
    {
     "name": "stdout",
     "output_type": "stream",
     "text": [
      "0\n"
     ]
    }
   ],
   "source": [
    "# Your nan count code here\n",
    "tn = potholes.isna().sum()\n",
    "total_nan = tn.sum()\n",
    "print(total_nan)"
   ]
  },
  {
   "cell_type": "code",
   "execution_count": null,
   "metadata": {
    "deletable": false,
    "editable": false,
    "nbgrader": {
     "checksum": "da34aac4c035b267f3ff5816fd031fba",
     "grade": true,
     "grade_id": "cell-17c0ac01cace4b18",
     "locked": true,
     "points": 10,
     "schema_version": 1,
     "solution": false
    }
   },
   "outputs": [],
   "source": [
    "# for grading use only (question 6b)\n"
   ]
  },
  {
   "cell_type": "markdown",
   "metadata": {},
   "source": [
    "##### Grading Feedback Cell"
   ]
  },
  {
   "cell_type": "markdown",
   "metadata": {},
   "source": [
    "6c (4 pts): Count the number of unique street names in the dataframe and store in a variable named unique_street_name_count.  Print unique_street_name_count."
   ]
  },
  {
   "cell_type": "code",
   "execution_count": 143,
   "metadata": {},
   "outputs": [
    {
     "data": {
      "text/plain": [
       "413"
      ]
     },
     "metadata": {},
     "output_type": "display_data"
    }
   ],
   "source": [
    "# your unique street name count here\n",
    "unique_street_name = potholes['StreetName'].unique()\n",
    "unique_street_name_count = len(unique_street_name)\n",
    "display(unique_street_name_count)"
   ]
  },
  {
   "cell_type": "code",
   "execution_count": null,
   "metadata": {
    "deletable": false,
    "editable": false,
    "nbgrader": {
     "checksum": "da34aac4c035b267f3ff5816fd031fba",
     "grade": true,
     "grade_id": "cell-17c0ac01cace4b18",
     "locked": true,
     "points": 10,
     "schema_version": 1,
     "solution": false
    }
   },
   "outputs": [],
   "source": [
    "# for grading use only (question 6c)"
   ]
  },
  {
   "cell_type": "markdown",
   "metadata": {},
   "source": [
    "##### Grading Feedback Cell"
   ]
  },
  {
   "cell_type": "markdown",
   "metadata": {},
   "source": [
    "6d (4 pts): Use the pandas groupby feature to create a new dataframe called street_pothole_sum which summarizes the total number of potholes by street.  You are essentially counting the number of rows by street name.  The rows of street_pothole_sum should be the labeled with street name.  There should be a single column in street_pothole_sum dataframe named num_potholes.  Print the head and shape of the street_pothole_sum dataframe."
   ]
  },
  {
   "cell_type": "code",
   "execution_count": 195,
   "metadata": {
    "scrolled": true
   },
   "outputs": [
    {
     "data": {
      "text/html": [
       "<div>\n",
       "<style scoped>\n",
       "    .dataframe tbody tr th:only-of-type {\n",
       "        vertical-align: middle;\n",
       "    }\n",
       "\n",
       "    .dataframe tbody tr th {\n",
       "        vertical-align: top;\n",
       "    }\n",
       "\n",
       "    .dataframe thead th {\n",
       "        text-align: right;\n",
       "    }\n",
       "</style>\n",
       "<table border=\"1\" class=\"dataframe\">\n",
       "  <thead>\n",
       "    <tr style=\"text-align: right;\">\n",
       "      <th></th>\n",
       "      <th>street_potholes_sum</th>\n",
       "    </tr>\n",
       "    <tr>\n",
       "      <th>StreetName</th>\n",
       "      <th></th>\n",
       "    </tr>\n",
       "  </thead>\n",
       "  <tbody>\n",
       "    <tr>\n",
       "      <th>ACADEMY</th>\n",
       "      <td>955753899</td>\n",
       "    </tr>\n",
       "    <tr>\n",
       "      <th>ACKERMAN</th>\n",
       "      <td>62887685</td>\n",
       "    </tr>\n",
       "    <tr>\n",
       "      <th>ADAMS</th>\n",
       "      <td>219340908</td>\n",
       "    </tr>\n",
       "    <tr>\n",
       "      <th>AINSLEY</th>\n",
       "      <td>88038402</td>\n",
       "    </tr>\n",
       "    <tr>\n",
       "      <th>ALANSON</th>\n",
       "      <td>50287488</td>\n",
       "    </tr>\n",
       "  </tbody>\n",
       "</table>\n",
       "</div>"
      ],
      "text/plain": [
       "            street_potholes_sum\n",
       "StreetName                     \n",
       "ACADEMY               955753899\n",
       "ACKERMAN               62887685\n",
       "ADAMS                 219340908\n",
       "AINSLEY                88038402\n",
       "ALANSON                50287488"
      ]
     },
     "metadata": {},
     "output_type": "display_data"
    },
    {
     "data": {
      "text/plain": [
       "(413, 1)"
      ]
     },
     "metadata": {},
     "output_type": "display_data"
    }
   ],
   "source": [
    "# street_pothole_sum code here\n",
    "street_potholes_sum = potholes.groupby(['StreetName']).sum()\n",
    "street_potholes_sum = street_potholes_sum.rename(columns={\"streetID\":\"street_potholes_sum\"})\n",
    "street_potholes_sum = street_potholes_sum.drop(['Latitude','Longitude'],axis = 1)\n",
    "display(street_potholes_sum.head())\n",
    "display(street_potholes_sum.shape)"
   ]
  },
  {
   "cell_type": "code",
   "execution_count": null,
   "metadata": {
    "deletable": false,
    "editable": false,
    "nbgrader": {
     "checksum": "da34aac4c035b267f3ff5816fd031fba",
     "grade": true,
     "grade_id": "cell-17c0ac01cace4b18",
     "locked": true,
     "points": 10,
     "schema_version": 1,
     "solution": false
    }
   },
   "outputs": [],
   "source": [
    "# for grading use only (question 6d)"
   ]
  },
  {
   "cell_type": "markdown",
   "metadata": {},
   "source": [
    "##### Grading Feedback Cell"
   ]
  },
  {
   "cell_type": "markdown",
   "metadata": {},
   "source": [
    "6e (4 pts) Save the number of potholes on Comstock Ave in a variable named num_potholes_comstock and display the variable. The num_potholes_comstock variable should be an integer type.  Print num_potholes_comstock."
   ]
  },
  {
   "cell_type": "code",
   "execution_count": 211,
   "metadata": {},
   "outputs": [
    {
     "name": "stdout",
     "output_type": "stream",
     "text": [
      "82\n"
     ]
    }
   ],
   "source": [
    "# num_potholes_comstock code here\n",
    "a = street_potholes_sum.axes[0].tolist()\n",
    "num_potholes_comstock = int(a.index('COMSTOCK '))\n",
    "print(num_potholes_comstock)"
   ]
  },
  {
   "cell_type": "code",
   "execution_count": null,
   "metadata": {
    "deletable": false,
    "editable": false,
    "nbgrader": {
     "checksum": "da34aac4c035b267f3ff5816fd031fba",
     "grade": true,
     "grade_id": "cell-17c0ac01cace4b18",
     "locked": true,
     "points": 10,
     "schema_version": 1,
     "solution": false
    }
   },
   "outputs": [],
   "source": [
    "# for grading use only (question 6e)"
   ]
  },
  {
   "cell_type": "markdown",
   "metadata": {},
   "source": [
    "##### Grading Feedback Cell"
   ]
  },
  {
   "cell_type": "markdown",
   "metadata": {},
   "source": [
    "#### Question 7 (10 pts): Create a function named my_corr_coef that takes as input 2 numpy single dimensional arrays and returns the correlation coefficient to the caller.  Note that your function does not have to work for matrices.  The correlation coefficient is a number of type float between -1 and 1.  The my_corr_coef function should not use any built in numpy functions to calculate the correlation.  For example, don't use the built in numpy corrcoef function, don't use np.mean, etc.  Make sure to check for input error conditions and return the Python 'None' type if the correlation coefficient cannot be computed due to problems with the input data.  See [equation 3](https://en.wikipedia.org/wiki/Pearson_correlation_coefficient) as a reference on how to compute correlation."
   ]
  },
  {
   "cell_type": "code",
   "execution_count": 214,
   "metadata": {},
   "outputs": [],
   "source": [
    "# my_corr_coef here\n",
    "def my_corr_coef(ar1, ar2):\n",
    "    arlen = len(ar1)\n",
    "    ar1T = ar1.sum()\n",
    "    ar2T = ar2.sum()\n",
    "    ar1bar = ar1T/arlen\n",
    "    ar2bar = ar2T/arlen\n",
    "    cov0 = 0\n",
    "    standar10 = 0\n",
    "    standar20 = 0\n",
    "    for x in range(arlen):\n",
    "        cov0 += (ar1[x]-ar1bar) * (ar2[x]-ar2bar)\n",
    "    for x in range(arlen):\n",
    "        standar10 += ((ar1[x] - ar1bar)**2)\n",
    "    for x in range(arlen):\n",
    "        standar20 += ((ar2[x] - ar2bar)**2)\n",
    "    cov = cov0 / (arlen-1)\n",
    "    standar1 = (standar10/(arlen-1))**(0.5)\n",
    "    standar2 = (standar20/(arlen-1))**(0.5)\n",
    "    corr = cov/(standar1 * standar2)\n",
    "    return corr"
   ]
  },
  {
   "cell_type": "code",
   "execution_count": 215,
   "metadata": {
    "deletable": false,
    "editable": false,
    "nbgrader": {
     "checksum": "da34aac4c035b267f3ff5816fd031fba",
     "grade": true,
     "grade_id": "cell-17c0ac01cace4b18",
     "locked": true,
     "points": 10,
     "schema_version": 1,
     "solution": false
    }
   },
   "outputs": [
    {
     "data": {
      "text/plain": [
       "0.9953500135553002"
      ]
     },
     "execution_count": 215,
     "metadata": {},
     "output_type": "execute_result"
    }
   ],
   "source": [
    "# for grading use only (question 7)\n",
    "a = np.array([1,2,3,4,6,7,8,9])\n",
    "b = np.array([2,4,6,8,10,12,13,15])\n",
    "my_corr_coef(a,b)"
   ]
  },
  {
   "cell_type": "markdown",
   "metadata": {},
   "source": [
    "##### Grading Feedback Cell"
   ]
  }
 ],
 "metadata": {
  "celltoolbar": "Edit Metadata",
  "kernel_info": {
   "name": "python3"
  },
  "kernelspec": {
   "display_name": "Python 3",
   "language": "python",
   "name": "python3"
  },
  "language_info": {
   "codemirror_mode": {
    "name": "ipython",
    "version": 3
   },
   "file_extension": ".py",
   "mimetype": "text/x-python",
   "name": "python",
   "nbconvert_exporter": "python",
   "pygments_lexer": "ipython3",
   "version": "3.7.2"
  },
  "name": "lab1-no-key",
  "notebookId": 3197279189044075,
  "nteract": {
   "version": "0.12.3"
  }
 },
 "nbformat": 4,
 "nbformat_minor": 1
}
